{
 "cells": [
  {
   "cell_type": "code",
   "execution_count": 3,
   "metadata": {},
   "outputs": [
    {
     "data": {
      "text/html": [
       "<style>\n",
       "\n",
       "div.text_cell_render{\n",
       "    font-size:14pt;\n",
       "    }\n",
       "\n",
       "</style>\n"
      ],
      "text/plain": [
       "<IPython.core.display.HTML object>"
      ]
     },
     "metadata": {},
     "output_type": "display_data"
    }
   ],
   "source": [
    "%%html\n",
    "<style>\n",
    "\n",
    "div.text_cell_render{\n",
    "    font-size:14pt;\n",
    "    }\n",
    "\n",
    "</style>"
   ]
  },
  {
   "cell_type": "code",
   "execution_count": 4,
   "metadata": {},
   "outputs": [],
   "source": [
    "import numpy as np\n",
    "import scipy.linalg as la"
   ]
  },
  {
   "cell_type": "markdown",
   "metadata": {},
   "source": [
    "### Modelling Circuit\n",
    "<img src=\"circuit.png\" style=\"width: 300px\">\n",
    "\n",
    "One source unit 0 taking the constant outside feed (10kg Gormanium, 100kg waste), <br>\n",
    "<br>\n",
    "The final concentration 4 and final tails 5 (They are not units!).\n",
    "\n",
    "Each unit has exactly two output flows (**concentrates** and **tails**), and can have multiple input flows, we call the addition of all the input flows as the **feed** of each unit."
   ]
  },
  {
   "cell_type": "markdown",
   "metadata": {},
   "source": [
    "### Relationship of mass in discrete time steps \n",
    "\n",
    "We assume that all units taking in their feed and produce their outflows within a time step, that indicates for time step $n$, (we use $F_i$ to denote the feed for unit i):\n",
    "<br>\n",
    "<br>\n",
    "<br>\n",
    "\\begin{align*}\n",
    "\\text{concentrate_outflow}_i^n (\\text{Gormanium}) &= F_i^n (\\text{Gormanium}) \\cdot \\text{recover_rate_Gormanium} \\, (0.2), \\\\\n",
    "\\text{tails_outflow}_i^n (\\text{Gormanium}) &= F_i^n (\\text{Gormanium}) \\cdot \\left(1 - \\text{recover_rate_Gormanium}\\right) \\\\\n",
    "\\text{concentrate_outflow}_i^n (\\text{waste}) &= F_i^n (\\text{Gormanium}) \\cdot \\text{recover_rate_waste} \\, (0.05), \\\\\n",
    "\\text{tails_outflow}_i^n (\\text{waste}) &= F_i^n (\\text{Gormanium}) \\cdot \\left(1 - \\text{recover_rate_waste}\\right) \\\\\n",
    "\\end{align*}\n",
    "\n",
    "\n",
    "And in the next time step:\n",
    "<br>\n",
    "<br>\n",
    "\\begin{align*}\n",
    "F_i^{n+1} (\\text{Gormanium}) &= \\sum_j \\text{concentrate_outflow}_j^n (\\text{Gormanium})\\\\\n",
    "&+ \\sum_k \\text{tails_outflow}_k^n (\\text{Gormanium})\n",
    "\\end{align*}\n",
    "<br>\n",
    "where conc_number of unit j is i, and tails_number of unit k is i.\n",
    "<br>\n",
    "<br>\n",
    "Thus:\n",
    "<br>\n",
    "\\begin{align*}\n",
    "F_i^{n+1} (\\text{Gormanium}) &= \\sum_j F_j^n (\\text{Gormanium}) \\cdot     \\text{recover_rate_Gormanium}\\\\\n",
    "&+\\sum_k F_k^n (\\text{Gormanium}) \\cdot     (1 - \\text{recover_rate_Gormanium})\n",
    "\\end{align*}\n",
    "<br>\n",
    "where conc_number of unit j is i, and tails_number of unit k is i.\n",
    "<br>\n",
    "<br>\n",
    "\n",
    "When mass-balance achieved, we have:\n",
    "<br>\n",
    "<br>\n",
    "\\begin{align*}\n",
    "F_i^{n+1} (\\text{Gormanium}) &= F_i^{n} (\\text{Gormanium})\\\\\n",
    "F_i^{n+1} (\\text{Waste}) &=F_i^{n} (\\text{Waste})\n",
    "\\end{align*}\n",
    "\n",
    "for all units i and the Final Concs (4 in this circuit) and Final tails (5 in this circuit)."
   ]
  },
  {
   "cell_type": "markdown",
   "metadata": {},
   "source": [
    "### Implment the iteration method\n",
    "   Using this relationship, we implemented a iteration solver, as followed:\n",
    "```c++\n",
    "void CCircuit::calculate_monetary_value(bool &diverge, double tolerance, int max_iter)\n",
    "{    \n",
    "   // set the initial feed state\n",
    "    clear();\n",
    "    Feed.set(CCircuit::feed_mass_gormanium, CCircuit::feed_mass_waste);\n",
    "    units[source].feed.set(Feed);\n",
    "    \n",
    "    // do the flow iteration\n",
    "    while(tolerance condition)\n",
    "    {\n",
    "        // produce conc and tails for each units[i]\n",
    "        for(int i = 0; i < num_units; ++i)\n",
    "        {\n",
    "            units[i].calculate_outflow();\n",
    "        }\n",
    "\n",
    "        // feed -> old_feed, feed = 0\n",
    "        save_flow();\n",
    "\n",
    "        // remember the source is always adding a constant Feed!!\n",
    "        units[source].feed.set(Feed);\n",
    "        \n",
    "        // passing componants of conc and tails of units to the feed of their connectors\n",
    "        for (int i = 0; i < num_units; ++i)\n",
    "        {\n",
    "            conc_num = units[i].conc_num;\n",
    "\n",
    "            if (conc_num < num_units)\n",
    "            {\n",
    "                units[conc_num].feed.plus(units[i].conc);\n",
    "            }\n",
    "            else if(conc_num == num_units) Conc.plus(units[i].conc);\n",
    "            else Tails.plus(units[i].conc);\n",
    "            tails_num = units[i].tails_num;\n",
    "            if (tails_num < num_units)\n",
    "            {\n",
    "                units[tails_num].feed.plus(units[i].tails);\n",
    "            }\n",
    "            if(tails_num == num_units) Conc.plus(units[i].tails);\n",
    "            else Tails.plus(units[i].tails);\n",
    "        }\n",
    "\n",
    "        // some code to check diverge\n",
    "        iter++;\n",
    "    }\n",
    "    if(not diverge)\n",
    "    {\n",
    "        monetary_value = CCircuit::value_gormanium * Conc.Gormanium\n",
    "                         + CCircuit::value_waste * Conc.waste;\n",
    "    }\n",
    "    else\n",
    "    {\n",
    "        diverge = true;\n",
    "        monetary_value = CCircuit::worst_case;\n",
    "    }\n",
    "}\n",
    "```"
   ]
  },
  {
   "cell_type": "markdown",
   "metadata": {},
   "source": [
    "### Express the relationship above using Matrix format\n",
    "<br>\n",
    "Recall we have:\n",
    "\n",
    "<br>\n",
    "\\begin{align*}\n",
    "F_i^{n+1} (\\text{Gormanium}) &= \\sum_j F_j^n (\\text{Gormanium}) \\cdot     \\text{recover_rate_Gormanium}\\\\\n",
    "&+\\sum_k F_k^n (\\text{Gormanium}) \\cdot     (1 - \\text{recover_rate_Gormanium})\n",
    "\\end{align*}\n",
    "\n",
    "where conc_number of unit j is i, and tails_number of unit k is i.\n",
    "\n",
    "<br>\n",
    "we want to express all the $F_i^n$ (Gormanium), and $F_i^n$ (Waste) as a vector,\n",
    "<br>\n",
    "\n",
    "How many elements do we have? $2 \\cdot \\left(\\text{num_units} + 2 \\right)$ (adding Final Concs and tails)\n",
    "\n",
    "$$\n",
    "\\boldsymbol{x}^n = \\begin{pmatrix}\n",
    "F_0^{n} (\\text{Gormanium})\\\\\n",
    "F_0^{n} (\\text{waste})\\\\\n",
    "F_1^{n} (\\text{Gormanium})\\\\\n",
    "F_1^{n} (\\text{waste})\\\\\n",
    "\\vdots\\\\\n",
    "F_{\\text{FinalConc}}^{n} (\\text{Gormanium})\\\\\n",
    "F_{\\text{FinalConc}}^{n} (\\text{waste})\\\\\n",
    "F_{\\text{FinalTails}}^{n} (\\text{Gormanium})\\\\\n",
    "F_{\\text{FinalTails}}^{n} (\\text{waste})\\\\\n",
    "\\end{pmatrix}\n",
    "$$\n",
    "<br>\n",
    "\n",
    "with Matrix A (very similar to a connectivity matrix) with:\n",
    "<br>\n",
    "<br>\n",
    "$$ A_{ij}=\\left\\{\n",
    "\\begin{aligned}\n",
    "\\text{recover_rate_Gormanium}, \\,\\, \\text{where} \\, i = 2 \\cdot \\text{some unit number and  }  j \\text{  is the conc_number of it} \\\\\n",
    "\\text{1 - recover_rate_Gormanium}, \\,\\, \\text{where} \\, i = 2 \\cdot \\text{some unit number and  }  j \\text{  is the tails_number of it} \\\\\n",
    "\\text{recover_rate_waste}, \\,\\, \\text{where} \\, i = 2 \\cdot \\text{some unit number} + 1 \\text{ and  }  j \\text{  is the conc_number of it} \\\\\n",
    "\\text{1 - recover_rate_waste}, \\,\\, \\text{where} \\, i = 2 \\cdot \\text{some unit number} + 1 \\text{ and  }  j \\text{  is the tails_number of it}\\\\\n",
    "0, \\text{otherwise}\n",
    "\\end{aligned}\n",
    "\\right.\n",
    "$$\n",
    "<br>\n",
    "remember the source is always adding a constant Feed, say $\\boldsymbol{b}$, with \n",
    "<br>\n",
    "<br>\n",
    "$$ b_{i}=\\left\\{\n",
    "\\begin{aligned}\n",
    "\\text{feed_rate_Gormanium}, (10) \\,\\, \\text{where} \\, i = 2 \\cdot \\text{source_number} \\\\\n",
    "\\text{feed_rate_waste},  (100)\\,\\, \\text{where} \\, i = 2 \\cdot \\text{source_number} + 1\\\\\n",
    "0, \\text{otherwise}\n",
    "\\end{aligned}\n",
    "\\right.\n",
    "$$\n",
    "\n",
    "thus we could express the relationship (in matrix format) as \n",
    "\n",
    "$$\n",
    "\\boldsymbol{x}^{n+1} = A \\left(\\boldsymbol{x}^n + \\boldsymbol{b}\\right)\n",
    "$$\n",
    "\n",
    "and recall when mass-balance achieved, we have:\n",
    "<br>\n",
    "<br>\n",
    "\\begin{align*}\n",
    "F_i^{n+1} (\\text{Gormanium}) &= F_i^{n} (\\text{Gormanium})\\\\\n",
    "F_i^{n+1} (\\text{Waste}) &=F_i^{n} (\\text{Waste})\n",
    "\\end{align*}\n",
    "\n",
    "for all units i and the Final Concs (4 in this circuit) and Final tails (5 in this circuit).\n",
    "\n",
    "That is, \n",
    "$$\n",
    "\\boldsymbol{x}^{n+1} = \\boldsymbol{x}^n  \\,\\,\\,(\\text{a fix point})\n",
    "$$\n",
    "\n",
    "We can just solve the fix point $\\boldsymbol{x}$ by solving the system:\n",
    "<br>\n",
    "<br>\n",
    "$$\n",
    "\\left(A - I\\right)\\,\\boldsymbol{x} =  - A \\, \\boldsymbol{b}\n",
    "$$\n",
    "\n",
    "where $I$ is the Identity Matrix"
   ]
  },
  {
   "cell_type": "markdown",
   "metadata": {},
   "source": [
    "### implement the direct solver\n",
    "```c++\n",
    "void CCircuit::calculate_monetary_value_directly()\n",
    "{\n",
    "    int n = CCircuit::cells + 3;\n",
    "\n",
    "    auto A = double[n][n];\n",
    "    auto b = double[n];\n",
    "    \n",
    "    // initialize A and b\n",
    "    for (int i = 0; i < n; ++i)\n",
    "    {   \n",
    "        if (i == source * 2) b[i] = -CCircuit::feed_mass_gormanium;\n",
    "        else if(i == source * 2 + 1) b[i] = -CCircuit::feed_mass_waste;\n",
    "        else b[i] = 0;\n",
    "        for(int j = 0; j < n; ++j) A[i][j] = 0;\n",
    "    }\n",
    "    \n",
    "    // setting up A\n",
    "    for (int i = 0; i < num_units; ++i)\n",
    "    {              \n",
    "        A[2 * units[i].conc_num][2 * i] = CCircuit::c_rate_gormanium;\n",
    "        A[2 * units[i].conc_num + 1][2 * i + 1] = CCircuit::c_rate_waste;\n",
    "        A[2 * units[i].tails_num][2 * i] = CCircuit::t_rate_gormanium;\n",
    "        A[2 * units[i].tails_num + 1][2 * i + 1] = CCircuit::t_rate_waste;\n",
    "    }\n",
    "\n",
    "    matmul(A, b, n);\n",
    "\n",
    "    for (int k = 0; k < n; ++k) \n",
    "        A[k][k]-= 1;\n",
    "\n",
    "    Guassian_elimination(A, b, n);\n",
    "\n",
    "    monetary_value = 100 * b[2 * num_units] - 500 * b[2 * num_units + 1];\n",
    "\n",
    "}\n",
    "```"
   ]
  },
  {
   "cell_type": "markdown",
   "metadata": {},
   "source": [
    "### Compare the  iteration solver and the direct solver"
   ]
  },
  {
   "cell_type": "code",
   "execution_count": 15,
   "metadata": {},
   "outputs": [],
   "source": [
    "conc_g_rate = 0.2\n",
    "conc_w_rate = 0.05\n",
    "feed_g = 10\n",
    "feed_w = 100"
   ]
  },
  {
   "cell_type": "markdown",
   "metadata": {},
   "source": [
    "The iteration solver write in python, with the same methodlogy."
   ]
  },
  {
   "cell_type": "code",
   "execution_count": 16,
   "metadata": {},
   "outputs": [],
   "source": [
    "def mass_balance_iterate(vec, conc_g_rate, conc_w_rate, feed_g, feed_w):\n",
    "  \n",
    "    tails_g_rate = 1 - conc_g_rate\n",
    "    tails_w_rate = 1 - conc_w_rate\n",
    "    units = int((len(vec) - 1) / 2)\n",
    "    source = vec[0]\n",
    "    num_elements = len(vec) + 3\n",
    "    A = np.zeros((num_elements, num_elements))\n",
    "\n",
    "    b = np.zeros(num_elements)\n",
    "    res = 1.1\n",
    "    b_new = b\n",
    "    itera = 0\n",
    "\n",
    "    conc_old = np.array(b[2 * units], b[2 * units + 1])\n",
    "\n",
    "    for i in range(units):\n",
    "        \n",
    "        conc = vec[2 * i + 1]\n",
    "        tails = vec[2 * i + 2]\n",
    "        \n",
    "        A[2 * conc][2 * i] = conc_g_rate\n",
    "        A[2 * conc + 1][2 * i + 1] = conc_w_rate\n",
    "        A[2 * tails][2 * i] = tails_g_rate\n",
    "        A[2 * tails + 1][2 * i + 1] = tails_w_rate\n",
    "    \n",
    "    while(res > 1e-3):\n",
    "\n",
    "        b[2 * source] = b[2 * source] + feed_g\n",
    "        b[2 * source + 1] = b[2 * source + 1] + feed_w\n",
    "        conc_old = (b[2 * units], b[2 * units + 1])\n",
    "       \n",
    "        b_new = A @ b\n",
    "        conc_new = np.array([b_new[2 * units], b_new[2 * units + 1]])\n",
    "        res = max(b_new - b)\n",
    "        #print(conc_new)\n",
    "        #print(100 * b_new[2 * units] - 500 * b_new[2 * units + 1])\n",
    "        b = b_new\n",
    "        conc_old = conc_new\n",
    "        itera = itera + 1\n",
    "\n",
    "    conc_g = b[2 * units]\n",
    "    conc_w = b[2 * units + 1]\n",
    "\n",
    "    return conc_g, conc_w, 100 * conc_g - 500 * conc_w"
   ]
  },
  {
   "cell_type": "markdown",
   "metadata": {},
   "source": [
    "The direct solver write in python, with the same methodlogy."
   ]
  },
  {
   "cell_type": "code",
   "execution_count": 17,
   "metadata": {},
   "outputs": [],
   "source": [
    "def mass_balance_direct(vec, conc_g_rate, conc_w_rate, feed_g, feed_w):\n",
    "  \n",
    "    tails_g_rate = 1 - conc_g_rate\n",
    "    tails_w_rate = 1 - conc_w_rate\n",
    "    units = int((len(vec) - 1) / 2)\n",
    "    source = vec[0]\n",
    "    num_elements = len(vec) + 3\n",
    "    A = np.zeros((num_elements, num_elements))\n",
    "\n",
    "    b = np.zeros(num_elements)\n",
    "\n",
    "    b[2 * source] = -feed_g\n",
    "    b[2 * source + 1] = -feed_w    \n",
    "\n",
    "    for i in range(units):\n",
    "        \n",
    "        conc = vec[2 * i + 1]\n",
    "        tails = vec[2 * i + 2]\n",
    "        \n",
    "        A[2 * conc][2 * i] = conc_g_rate\n",
    "        A[2 * conc + 1][2 * i + 1] = conc_w_rate\n",
    "        A[2 * tails][2 * i] = tails_g_rate\n",
    "        A[2 * tails + 1][2 * i + 1] = tails_w_rate\n",
    "\n",
    "    b = A @ b\n",
    "\n",
    "    C = A - np.eye(num_elements)\n",
    "    \n",
    "    b = la.solve(C, b)  \n",
    "    conc_g = b[2 * units]\n",
    "    conc_w = b[2 * units + 1]\n",
    "    momentary_value = 100 * conc_g - 500 * conc_w\n",
    "\n",
    "    print('conc_g: {0:f}, conc_w: {1:f}, momentory_value: {2:f}' .format(conc_g, conc_w, momentary_value))"
   ]
  },
  {
   "cell_type": "markdown",
   "metadata": {},
   "source": [
    "See this example (10 units):"
   ]
  },
  {
   "cell_type": "code",
   "execution_count": 18,
   "metadata": {},
   "outputs": [],
   "source": [
    "vec = np.array([7, 6,  1,  2,  4,  3,  5,  10,  6,  5, 11,  3,  7,  3,  2,  6,  8,  6,  9,  6,  0])"
   ]
  },
  {
   "cell_type": "code",
   "execution_count": 19,
   "metadata": {},
   "outputs": [
    {
     "name": "stdout",
     "output_type": "stream",
     "text": [
      "conc_g: 2.927372, conc_w: 0.253969, momentory_value: 165.752738\n"
     ]
    }
   ],
   "source": [
    "mass_balance_direct(vec, conc_g_rate, conc_w_rate, feed_g, feed_w)"
   ]
  },
  {
   "cell_type": "code",
   "execution_count": 20,
   "metadata": {},
   "outputs": [
    {
     "data": {
      "text/plain": [
       "(2.9254137218245777, 0.253968992775473, 165.5568757947213)"
      ]
     },
     "execution_count": 20,
     "metadata": {},
     "output_type": "execute_result"
    }
   ],
   "source": [
    "mass_balance_iterate(vec, conc_g_rate, conc_w_rate, feed_g, feed_w)"
   ]
  },
  {
   "cell_type": "markdown",
   "metadata": {},
   "source": [
    "Also this example (10 units):"
   ]
  },
  {
   "cell_type": "code",
   "execution_count": 21,
   "metadata": {},
   "outputs": [],
   "source": [
    "vec2 = np.array([4, 5, 4, 2, 3, 6, 1, 2, 4, 1, 0, 7, 9, 10, 9, 8, 1, 11, 0, 3, 4], dtype = int)"
   ]
  },
  {
   "cell_type": "code",
   "execution_count": 22,
   "metadata": {},
   "outputs": [
    {
     "name": "stdout",
     "output_type": "stream",
     "text": [
      "conc_g: 7.918093, conc_w: 70.731489, momentory_value: -34573.935285\n"
     ]
    }
   ],
   "source": [
    "mass_balance_direct(vec2, conc_g_rate, conc_w_rate, feed_g, feed_w)"
   ]
  },
  {
   "cell_type": "code",
   "execution_count": 23,
   "metadata": {},
   "outputs": [
    {
     "data": {
      "text/plain": [
       "(7.9180927652541415, 70.7298763980363, -34573.12892249274)"
      ]
     },
     "execution_count": 23,
     "metadata": {},
     "output_type": "execute_result"
    }
   ],
   "source": [
    "mass_balance_iterate(vec2, conc_g_rate, conc_w_rate, feed_g, feed_w)"
   ]
  },
  {
   "cell_type": "markdown",
   "metadata": {},
   "source": [
    "For some test cases, the iteration solver would converge very very slow! Unless you code up an exit to mark it as diverge or you would wait it a couple of minutes to achieve the fix point."
   ]
  },
  {
   "cell_type": "markdown",
   "metadata": {},
   "source": [
    "### Final words for Circuit modelling\n",
    "   <br>\n",
    "   For a large system with more units, the computational cost to do matrix multiplications and Gaussian-Elimations would be very large. So the direct solver would be struggle to work out the performance for even one single circuit.\n",
    "<br>\n",
    "<br>\n",
    "   However, The Base Case Circuit Specification in this porject (10 units) would not lead a high computational cost for our direct Matrix solver, so in exploring the best Circuit Configuration under the base case,\n",
    "we would prefer using the direct Matrix solver rather than the iteration solver.\n",
    "\n",
    "<br>\n",
    "For larger systems, maybe a mixture of them."
   ]
  }
 ],
 "metadata": {
  "kernelspec": {
   "display_name": "Python 3",
   "language": "python",
   "name": "python3"
  },
  "language_info": {
   "codemirror_mode": {
    "name": "ipython",
    "version": 3
   },
   "file_extension": ".py",
   "mimetype": "text/x-python",
   "name": "python",
   "nbconvert_exporter": "python",
   "pygments_lexer": "ipython3",
   "version": "3.8.5"
  }
 },
 "nbformat": 4,
 "nbformat_minor": 4
}
