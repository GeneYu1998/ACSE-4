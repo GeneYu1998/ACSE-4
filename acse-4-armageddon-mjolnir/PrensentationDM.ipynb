{
 "cells": [
  {
   "cell_type": "markdown",
   "metadata": {},
   "source": [
    "### Presentation (20 marks)\n",
    "\n",
    "Your project will also be assessed on the basis of a 15-minute video presentation that you must upload to MS Stream before the deadline of **Friday 15th January, 4:00 pm UTC**.\n",
    "\n",
    "You can record the presentation in any software that you like, but we recommend recording in MS Teams as this allows for simple uploading to MS Stream.\n",
    "\n",
    "You presentation should provide the following information:\n",
    "\n",
    "1. A brief description of your airburst solver solution algorithm, including ODE solving routine.\n",
    "2. A quantification of the accuracy of your numerical solution for two cases, with and without fragmentation, for User-specified input parameters. It is up to you to design an appropriate demonstration of accuracy, but this could take the form of a plot of error vs. timestep size or error vs. solver tolerance, depending on your solution algorithm. \n",
    "3. A demonstration of how to use your software to determine the impactor parameters (asteroid size & strength) for the Chelyabinsk airburst, by fitting your model solutions of kinetic energy loss per unit height vs. altitude to the inferred energy deposition curve.\n",
    "4. A brief description of your algorithm for finding postcodes within each damage zone\n",
    "5. A brief description of your algorithm for accounting for the effect of uncertainty in the input parameters (risk calculation).\n",
    "6. A demonstration of your software for a specified scenario that will be provided on Friday.\n"
   ]
  },
  {
   "cell_type": "code",
   "execution_count": 2,
   "metadata": {},
   "outputs": [
    {
     "data": {
      "text/html": [
       "<style>\n",
       "div.file{\n",
       "    display: block;\n",
       "    background-color: #D3D3D3;\n",
       "    border-color: #8A2BE2;\n",
       "    border-left: 5px solid #8A2BE2;\n",
       "    padding: 0.5em;\n",
       "}\n",
       "\n",
       "div.text_cell_render{\n",
       "    font-size:13pt;\n",
       "    }\n",
       "\n",
       "</style>\n"
      ],
      "text/plain": [
       "<IPython.core.display.HTML object>"
      ]
     },
     "metadata": {},
     "output_type": "display_data"
    }
   ],
   "source": [
    "%%html\n",
    "<style>\n",
    "div.file{\n",
    "    display: block;\n",
    "    background-color: #D3D3D3;\n",
    "    border-color: #8A2BE2;\n",
    "    border-left: 5px solid #8A2BE2;\n",
    "    padding: 0.5em;\n",
    "}\n",
    "\n",
    "div.text_cell_render{\n",
    "    font-size:13pt;\n",
    "    }\n",
    "\n",
    "</style>"
   ]
  },
  {
   "cell_type": "code",
   "execution_count": 3,
   "metadata": {},
   "outputs": [],
   "source": [
    "import armageddon\n",
    "import pandas as pd\n",
    "import numpy as np\n",
    "import folium\n",
    "import random"
   ]
  },
  {
   "cell_type": "markdown",
   "metadata": {},
   "source": [
    "\n",
    "# Damage Mapper\n"
   ]
  },
  {
   "cell_type": "markdown",
   "metadata": {},
   "source": [
    "<div class=\"file\">\n",
    "\n",
    "## Locator.py\n",
    "\n",
    "</div>"
   ]
  },
  {
   "cell_type": "markdown",
   "metadata": {},
   "source": [
    "### Great_circle_distance\n",
    "\n",
    "Calculate the great circle distance (in metres) between pairs of points specified as latitude and longitude on a spherical Earth.\n",
    "\n",
    "```\n",
    "def great_circle_distance(latlon1, latlon2):\n",
    "```\n",
    "\n",
    "with the inputs `latlon1` `latlon2` lists of 2-element arrays, with first entry to be latitude, second entry to be longitude.\n",
    "\n",
    "The formulae we implemented is the spherical Vincenty formula\n",
    "\n",
    "$$\\frac{r}{R_p}=\\arctan\\frac{\\sqrt{(\\cos\\varphi_2\\sin|\\lambda_1-\\lambda_2|)^2+(\\cos\\varphi_1\\sin\\varphi_2-\\sin\\varphi_1\\cos\\varphi_2\\cos|\\lambda_1-\\lambda_2|)^2}}{\\sin\\varphi_1 \\sin\\varphi_2+\\cos\\varphi_1\\cos\\varphi_2\\cos|\\lambda_1-\\lambda_2|},$$\n",
    "\n",
    "where $(\\phi_1, \\lambda_1)$ the location of the first point, and $(\\phi_2, \\lambda_2)$ the second.\n",
    "\n",
    "Nothing much particularly need to be mentioned here, but do remind to convert between degrees and radians in calculation with trigonometric functions. We just used a factor of `math.pi/180` here, but commands like `np.degrees()`, `np.radians()` also helps.\n",
    "\n",
    "```Python\n",
    "    # turn degree to radian\n",
    "    latlon1 *= math.pi / 180\n",
    "    latlon2 *= math.pi / 180\n",
    "```\n",
    "\n",
    "return a 2-d array of great_circle_distances.\n",
    "\n",
    "\n"
   ]
  },
  {
   "cell_type": "markdown",
   "metadata": {},
   "source": [
    "### Get_postcodes_by_radius"
   ]
  },
  {
   "cell_type": "markdown",
   "metadata": {},
   "source": [
    "This function was designed to look up the postcodes inside some specific circle regions given a center point and a list of radius.\n",
    "\n",
    "```\n",
    "get_postcodes_by_radius(self, X, radii, sector=False):\n",
    "```\n",
    "\n",
    "This function requires three paramaters. X is a center point. radii contains a list of radius and the boolean value sector indicates whether postcode sectors are required or not.\n",
    "\n",
    "In general, this function mainly used the Great_circle_distance function and dataframe operations from pandas to calculate as well as store distances between the center point and each postcode. First of all, the postcodes information was stored in a dataframe. Then, the difference of radius and distances between the center point and every postcode inside the postcode database were calculated and stored in a new column in the dataframe.\n"
   ]
  },
  {
   "cell_type": "code",
   "execution_count": 4,
   "metadata": {},
   "outputs": [
    {
     "name": "stdout",
     "output_type": "stream",
     "text": [
      "  Postcode   LAU218CD   Latitude  Longitude  distance_center_less\n",
      "0  AB101AB  S31000932  57.149606  -2.096916                    -2\n",
      "1  AB101AF  S31000932  57.148707  -2.097806                    -1\n",
      "2  AB101AG  S31000932  57.149051  -2.097004                     0\n",
      "3  AB101AH  S31000932  57.148080  -2.094664                     7\n",
      "4  AB101AL  S31000932  57.150058  -2.095916                     3\n",
      "5  AB101AN  S31000932  57.149700  -2.094742                     3\n",
      "6  AB101AP  S31000932  57.148978  -2.095691                     4\n",
      "7  AB101AQ  S31000932  57.148080  -2.094664                     2\n",
      "8  AB101AR  S31000932  57.148080  -2.094664                     6\n",
      "9  AB101AS  S31000932  57.148099  -2.097233                     1\n"
     ]
    }
   ],
   "source": [
    "postcode_file='./resources/full_postcodes.csv'\n",
    "postcodes_db = pd.read_csv(postcode_file).head(10)\n",
    "location_latitude = np.array(postcodes_db['Latitude'])\n",
    "location_longitude = np.array(postcodes_db['Longitude'])\n",
    "locations = np.vstack((location_latitude, location_longitude))\n",
    "locations = locations.T\n",
    "distance = np.array([0,1,2,9,5,5,6,4,8,3])\n",
    "radii = [2]\n",
    "\n",
    "for r in radii:\n",
    "    postcodes_db['distance_center_less'] = distance - r\n",
    "    print(postcodes_db)"
   ]
  },
  {
   "cell_type": "markdown",
   "metadata": {},
   "source": [
    "Finally, we used the functionalities of dataframe to select postcodes inside the region according to the distance. \n",
    "```Python\n",
    "    impacts = self.postcodes_db.loc[self.postcodes_db.distance_center_less < 0]\n",
    "```\n",
    "This function returned a list of lists that contains postcodes inside the region."
   ]
  },
  {
   "cell_type": "markdown",
   "metadata": {},
   "source": [
    "### Get_population_of_postcode"
   ]
  },
  {
   "cell_type": "markdown",
   "metadata": {},
   "source": [
    "This function was used to look up the population according to a list of postcodes or postcodes sectors.\n",
    "```\n",
    "get_population_of_postcode(self, postcodes, sector=False):\n",
    "```\n",
    "\n",
    "For this function, only a list of lists containing postcodes and a boolean value indicating the type of results were required. Similarly, this function mainly used functionalities from pandas to achieve our goal. To lookup the population correctly, the postcode database and census database were firstly cleaned by removing spaces inside each postcode. The spaces inside input postcodes were also removed. This can help to reduce the influence of postcodes storing format.\n",
    "\n",
    "```Python\n",
    "self.census[\"geography_remove\"] = self.census[\"geography\"].apply(lambda x: x.replace(\" \", \"\"))\n",
    "self.postcodes_db[\"sector\"] = self.postcodes_db[\"Postcode\"].apply(lambda x: x[0:-2].replace(\" \", \"\"))\n",
    "```\n",
    "\n",
    "For postcodes sectors, we can directly lookup them in the census database to find their populations. However, for postcodes, we had to approximate their populations according to their postcodes sector. To approximate that, we choose to calculate the average population inside the sector region. \n",
    "\n",
    "$$\\frac{population \\; of \\; the \\; sector}{number \\; of \\; postcodes \\; in \\; the \\; sector}=approximated \\; postcode \\;  population,$$\n",
    "\n",
    "Therefore, we both need to look up two databases. This can incur a large amount of time. Because some postcodes had the same sectors, to speed up the routine, duplications were firstly dropped when looking up and were recovered before return the result.\n",
    "\n",
    "This function returns a list of lists contains corresponding populations."
   ]
  },
  {
   "cell_type": "markdown",
   "metadata": {},
   "source": [
    "<div class=\"file\">\n",
    "\n",
    "## Damage.py\n",
    "\n",
    "</div>"
   ]
  },
  {
   "cell_type": "markdown",
   "metadata": {},
   "source": [
    "### Damage_zones\n",
    "\n",
    "To evaluate the impact of the Airblast (Crater) Event, we need to determine some criteria. The main cause of damage close to the impact site is a strong (pressure) blastwave in the air, known as the airblast. \n",
    "\n",
    "The zero surface locations can be derived from the following two formulaes:\n",
    "\n",
    "$$\\tag{1} \\sin \\varphi_2 = \\sin \\varphi_1\\cos \\left(\\frac{r}{R_p}\\right) +\\cos \\varphi_1\\sin\\left(\\frac{r}{R_p}\\right)\\cos \\beta,$$\n",
    "\n",
    "$$ \\tag{2} \\tan(\\lambda_2-\\lambda_1) = \\frac{\\sin\\beta\\sin\\left(\\frac{r}{R_p}\\right)\\cos\\varphi_1}{\\cos\\left(\\frac{r}{R_p}\\right)-\\sin\\varphi_1\\sin\\varphi_2}.$$\n",
    "\n",
    "given $(\\varphi_1,\\lambda_1)$ the meteoroid entry point (latitude and longitude), $r$ from the  `outcome['burst_distance']`, we can get $(\\varphi_2,\\lambda_2)$ the surface zero point by direct computation.\n",
    "\n",
    "Empirical data suggest that the following equation holds: \n",
    "\n",
    "\\begin{equation*}\n",
    "p(r) = 3.14 \\times 10^{11} \\left(\\frac{r^2 + z_b^2}{E_k^{2/3}}\\right)^{-1.3} + 1.8 \\times 10^{7} \\left(\\frac{r^2 + z_b^2}{E_k^{2/3}}\\right)^{-0.565}\n",
    "\\end{equation*}\n",
    "\n",
    "with $p$ the pressure (in Pa), explosion energy $E_k$ (in kilotons of TNT equivalent), burst altitude $z_b$ (in m) and horizontal range $r$ (in m).\n",
    "\n",
    "\n",
    "\n",
    "\n",
    "Now if we treat the $\\left(\\frac{r^2 + z_b^2}{E_k^{2/3}}\\right)$ as a single variable $X$, it would became a nice univariable non-linear equation: \n",
    "\n",
    "\\begin{equation*}\n",
    "f(X):= \\, 3.14 \\times 10^{11} \\, X^{-1.3} + 1.8 \\times 10^{7} \\, X^{-0.565} - p(r) = 0  \n",
    "\\end{equation*}\n",
    "\n",
    "\n",
    "This allows us to solve for $X$ given known pressure levels. And further to solve the blast radii $r$ s with known $E_k$, $z_b$. They comes from our solver's output `outcome['burst_energy']` and `outcome['burst_altitude']`.\n",
    "\n",
    "\n",
    "<br>\n",
    "\n",
    "```Python\n",
    "def damage_zones(outcome, lat, lon, bearing, pressures):\n",
    "    ...\n",
    "    return blat, blon, damrad\n",
    "```\n"
   ]
  },
  {
   "cell_type": "markdown",
   "metadata": {},
   "source": [
    "### 2nd order Newton-Raphson Method to solve the non-linear equation\n",
    "\n",
    "For non-linear equation $f(x) = 0$, suppose it has a unique solution $C$ over $(0, +\\infty)$  (note equation (1) does have a unique one because it has monotonly increasing smooth 1st derivative)\n",
    "\n",
    "Then we consider the iteration function:\n",
    "\n",
    "\\begin{equation}\n",
    "\\phi(x):= x + f(x) \\, \\left[ u(x) + f(x) \\, w(x) \\right]\n",
    "\\end{equation}\n",
    "\n",
    "suppose that $\\phi(C) = C$.\n",
    "\n",
    "And by Taylor expansion we have:\n",
    "\\begin{align}\n",
    "\\phi(x)  &= \\phi(C) + (x-C) \\, \\phi'(C) + \\frac{(x-C)^2}{2!} \\, \\phi''(C) + \\frac{(x-C)^3}{3!} \\, \\phi'''(C) + \\cdots + \\frac{(x-C)^n}{n!} \\, \\phi^{n}(C) \\cdots\\\\\n",
    "x_{i+1} - C &= (x-C) \\, \\phi'(C) + \\frac{(x -C)^2}{2!} \\, \\phi''(C) + \\frac{(x-C)^3}{3!} \\, \\phi'''(C) + \\cdots\\\\\n",
    "\\left| x_{i+1} - C \\right | &= \\left| x_i -C \\right| \\, \\left| \\phi'(C) + \\frac{(x_i -C)}{2!} \\, \\phi''(C) + \\frac{(x_i -C)^2}{3!} \\, \\phi'''(C) + \\cdots \\right|\n",
    "\\end{align}\n",
    "\n",
    "\n",
    "And recall 1st order Newton, we set $\\phi'(C) = 0$, thus we have quadratic convergence:\n",
    "\n",
    "$$\n",
    "\\left| x_{i+1} - C \\right | = \\left| x_i -C \\right|^2 \\, \\left|\\frac{1}{2!} \\, \\phi''(C) + \\frac{(x_i-C)}{3!} \\, \\phi'''(C) + \\cdots \\right|\n",
    "$$\n",
    "\n",
    "And for 2nd order Newton, we set both $\\phi'(C) = 0$ and $\\phi''(C) = 0$, thus we have cubic convergence:\n",
    "\n",
    "$$\n",
    "\\left| x_{i+1} - C \\right | = \\left| x_i -C \\right|^3 \\, \\left|\\frac{1}{3!} \\, \\phi'''(C) + \\frac{(x_i-C)}{4!} \\, \\phi^{(4)}(C) + \\cdots \\right|\n",
    "$$\n",
    "\n",
    "Thus the computation to define $u(x)$ , $w(x)$ are as follows:\n",
    "\n",
    "$\\phi'(C) = 0$ :\n",
    "\n",
    "\\begin{align}\n",
    "\\phi'(x) &= 1 + f'(x)  \\, \\left[ u(x) + f(x) \\, w(x) \\right] + f(x) \\, \\left[ u'(x) + f'(x) \\, w(x) + f(x) \\, w'(x) \\right]\\\\\n",
    "\\\\\n",
    "0 = \\phi'(C) &= 1 + f'(C) \\, u(C) \n",
    "\\end{align}\n",
    "\n",
    "dont't know $C$, we can just choose $$u(x) = - \\frac{1}{f'(x)}$$\n",
    "\n",
    "$\\phi''(C) = 0$ :\n",
    "\n",
    "\\begin{align}\n",
    "\\phi''(x) &= f''(x)  \\, \\left[ u(x) + f(x) \\, w(x) \\right] + f'(x)  \\, \\left[ u'(x) + f'(x) \\, w(x) + f(x) \\, w'(x) \\right] \\\\\n",
    "\\\\\n",
    "&+ f'(x) \\, \\left[ u'(x) + f'(x) \\, w(x) + f(x) \\, w'(x) \\right] + f(x) \\, \\left[ u''(x) + f''(x) \\, w(x) + 2 \\, f'(x) \\, w'(x) + f(x) \\, w''(x) \\right]\\\\\n",
    "\\\\\n",
    "\\phi''(C) &= 0 = f''(C) \\, u(C) + f'(C) \\, u'(C) +  \\left[f'(C)\\right]^2 \\, w(C) + f'(C) \\, u'(C) + \\left[f'(C)\\right]^2 \\, w(C)\\\\\n",
    "\\\\\n",
    "0 &= f''(C) \\, \\left(- \\frac{1}{f'(C)}\\right) + 2 \\,\\left[ f'(C) \\, \\left(\\frac{f''(C)}{\\left[f'(C)\\right]^2}\\right) + \\left[f'(C)\\right]^2 \\, w(C) \\right]\\\\ \n",
    "\\\\\n",
    "0 &= \\frac{f''(C)}{f'(C)} + 2 \\, \\left[f'(C)\\right]^2 \\, w(C)\n",
    "\\end{align}\n",
    "\n",
    "dont't know $C$, we can just choose $$w(x) = - \\frac{f''(x)}{2 \\, \\left[f'(x)\\right]^3}$$\n",
    "\n",
    "Thus, we could implement our algorithm \n",
    "\n",
    "```Python\n",
    "def second_order_Newton(f, dfdx, df2dx2, initial_guess):\n",
    "'''\n",
    "Parameters\n",
    "    ----------\n",
    "\n",
    "    f: function\n",
    "        the non-linear function we need to solve, (eg. f(x) = 0)\n",
    "    dfdx: function\n",
    "        the 1st derivative for function f\n",
    "    df2dx2: function\n",
    "        the 2nd derivative for function f\n",
    "    intial_guess: float\n",
    "        the start point of the iteration\n",
    "        \n",
    "    Returns\n",
    "    -------\n",
    "\n",
    "    root: float\n",
    "        the numerical solution for the Newton method    \n",
    "'''\n",
    "    \n",
    "```\n",
    "\n",
    "The choice of initial guess for Newton Method is triky, here we choose to start from each $p(r)$ given, and we have checked that, for the pressure input $\\left(10^{-2} , 10^6\\right)$, Newton is reliable.  "
   ]
  },
  {
   "cell_type": "markdown",
   "metadata": {},
   "source": [
    "## (Extension Functionality, combined with given specified scenario)"
   ]
  },
  {
   "cell_type": "markdown",
   "metadata": {},
   "source": [
    "Define parameters for the Asteroid  "
   ]
  },
  {
   "cell_type": "code",
   "execution_count": 5,
   "metadata": {},
   "outputs": [],
   "source": [
    "# define the input parameters\n",
    "asteroid = {'radius': 20, 'angle': 45, 'strength': 1e7,\n",
    "                  'density': 8000, 'velocity': 17e3,\n",
    "                  'lat': 53.79, 'lon': -3.55, 'bearing': 112.}"
   ]
  },
  {
   "cell_type": "markdown",
   "metadata": {},
   "source": [
    "Import the solver, assuming the atmosphere density to be ''exponential''"
   ]
  },
  {
   "cell_type": "code",
   "execution_count": 6,
   "metadata": {},
   "outputs": [
    {
     "name": "stdout",
     "output_type": "stream",
     "text": [
      "{'outcome': 'Airburst', 'burst_energy': 6233.650011863119, 'burst_peak_dedz': 1131.8068466463383, 'burst_altitude': 9243.425840745811, 'burst_distance': 90996.41771354491}\n"
     ]
    }
   ],
   "source": [
    "# create an instance\n",
    "earth = armageddon.Planet(atmos_func='exponential')\n",
    "\n",
    "# Solve the atmospheric entry problem\n",
    "result = earth.solve_atmospheric_entry(radius=asteroid['radius'], angle=asteroid['angle'],\n",
    "                                       strength=asteroid['strength'], density=asteroid['density'],\n",
    "                                       velocity=asteroid['velocity'])\n",
    "# as a column to the result dataframe\n",
    "result = earth.calculate_energy(result)\n",
    "\n",
    "# Determine the outcomes of the impact event\n",
    "outcome = earth.analyse_outcome(result)\n",
    "print(outcome)"
   ]
  },
  {
   "cell_type": "markdown",
   "metadata": {},
   "source": [
    "To drive to the plotting part, let's first use our `damage_zone` to process an example, which returns us the surface_zero point and blast radiis for 4 Damage Levels. "
   ]
  },
  {
   "cell_type": "markdown",
   "metadata": {},
   "source": [
    "And define pressure levels, according to:\n",
    "\n",
    "|  Damage Level |  Description    | Pressure (kPa) |\n",
    "|:-------------:|:---------------:|:--------------:|\n",
    "|  1  |  ~10% glass windows shatter    |     1.0      |\n",
    "|  2  | ~90% glass windows shatter     |     3.5      |\n",
    "|  3  | Wood frame buildings collapse  |     27      |\n",
    "|  4  | Multistory brick buildings collapse  |     43      |\n"
   ]
  },
  {
   "cell_type": "code",
   "execution_count": 7,
   "metadata": {},
   "outputs": [],
   "source": [
    "# Calculate the blast location and damage radius for several pressure levels\n",
    "blast_lat, blast_lon, damage_rad = armageddon.damage_zones(outcome,\n",
    "                                                           lat=asteroid['lat'], lon=asteroid['lon'], bearing=asteroid['bearing'],\n",
    "                                                           pressures=[1e3, 3.5e3, 27e3, 43e3])"
   ]
  },
  {
   "cell_type": "code",
   "execution_count": 8,
   "metadata": {},
   "outputs": [
    {
     "name": "stdout",
     "output_type": "stream",
     "text": [
      "surface zero point: ( 53.47663774575009 -2.27503151372165 )\n",
      "damage radii:  [111457.13034072031, 40691.54501499831, 7659.155070316064, 2307.2172269548146]\n"
     ]
    }
   ],
   "source": [
    "print('surface zero point:', '(', blast_lat, blast_lon,')')\n",
    "print('damage radii: ', damage_rad)"
   ]
  },
  {
   "cell_type": "markdown",
   "metadata": {},
   "source": [
    "<div class=\"file\">\n",
    "\n",
    "## Mapping.py\n",
    "\n",
    "</div>"
   ]
  },
  {
   "cell_type": "markdown",
   "metadata": {},
   "source": [
    "Let's plot circles for these data:"
   ]
  },
  {
   "cell_type": "code",
   "execution_count": 9,
   "metadata": {},
   "outputs": [],
   "source": [
    "plot = armageddon.plot_circle(blast_lat, blast_lon, damage_rad , map=None)"
   ]
  },
  {
   "cell_type": "markdown",
   "metadata": {},
   "source": [
    "As well as a line from the entry point to the surface zero point."
   ]
  },
  {
   "cell_type": "code",
   "execution_count": 10,
   "metadata": {},
   "outputs": [],
   "source": [
    "plot = armageddon.plot_polyline(asteroid['lat'], asteroid['lon'], blast_lat, blast_lon, map = plot)"
   ]
  },
  {
   "cell_type": "markdown",
   "metadata": {},
   "source": [
    "save the plot:"
   ]
  },
  {
   "cell_type": "code",
   "execution_count": 11,
   "metadata": {},
   "outputs": [],
   "source": [
    "plot.save('damage_map_senario.html')"
   ]
  },
  {
   "cell_type": "code",
   "execution_count": 12,
   "metadata": {},
   "outputs": [
    {
     "data": {
      "text/html": [
       "\n",
       "        <iframe\n",
       "            width=\"700\"\n",
       "            height=\"600\"\n",
       "            src=\"damage_map_senario.html\"\n",
       "            frameborder=\"0\"\n",
       "            allowfullscreen\n",
       "        ></iframe>\n",
       "        "
      ],
      "text/plain": [
       "<IPython.lib.display.IFrame at 0x7ff26e183970>"
      ]
     },
     "execution_count": 12,
     "metadata": {},
     "output_type": "execute_result"
    }
   ],
   "source": [
    "from IPython.display import IFrame\n",
    "IFrame(src='damage_map_senario.html', width=700, height=600)"
   ]
  },
  {
   "cell_type": "markdown",
   "metadata": {},
   "source": [
    "Find out the postcode units affected, with their population"
   ]
  },
  {
   "cell_type": "code",
   "execution_count": 13,
   "metadata": {},
   "outputs": [],
   "source": [
    "# The PostcodeLocator tool\n",
    "locator = armageddon.PostcodeLocator()\n",
    "\n",
    "# Find the postcodes in the damage radii\n",
    "postcodes = locator.get_postcodes_by_radius((blast_lat, blast_lon), radii=damage_rad)\n",
    "\n",
    "# Find the population in each postcode\n",
    "population = locator.get_population_of_postcode(postcodes)\n",
    "\n"
   ]
  },
  {
   "cell_type": "markdown",
   "metadata": {},
   "source": [
    "Postcode sectors affected"
   ]
  },
  {
   "cell_type": "code",
   "execution_count": null,
   "metadata": {},
   "outputs": [],
   "source": [
    "# Alternatively find the postcode sectors in the damage radii, and populations of the sectors\n",
    "sectors = locator.get_postcodes_by_radius((blast_lat, blast_lon), radii=damage_rad, sector=True)\n",
    "population_sector = locator.get_population_of_postcode(sectors, sector=True)"
   ]
  },
  {
   "cell_type": "markdown",
   "metadata": {},
   "source": [
    "Level 1 (~10% glass windows shatter)"
   ]
  },
  {
   "cell_type": "code",
   "execution_count": 61,
   "metadata": {},
   "outputs": [
    {
     "data": {
      "text/html": [
       "<div>\n",
       "<style scoped>\n",
       "    .dataframe tbody tr th:only-of-type {\n",
       "        vertical-align: middle;\n",
       "    }\n",
       "\n",
       "    .dataframe tbody tr th {\n",
       "        vertical-align: top;\n",
       "    }\n",
       "\n",
       "    .dataframe thead th {\n",
       "        text-align: right;\n",
       "    }\n",
       "</style>\n",
       "<table border=\"1\" class=\"dataframe\">\n",
       "  <thead>\n",
       "    <tr style=\"text-align: right;\">\n",
       "      <th></th>\n",
       "      <th>population</th>\n",
       "    </tr>\n",
       "  </thead>\n",
       "  <tbody>\n",
       "    <tr>\n",
       "      <th>HD2 1</th>\n",
       "      <td>15473</td>\n",
       "    </tr>\n",
       "    <tr>\n",
       "      <th>SK141</th>\n",
       "      <td>5911</td>\n",
       "    </tr>\n",
       "    <tr>\n",
       "      <th>L21 1</th>\n",
       "      <td>3682</td>\n",
       "    </tr>\n",
       "    <tr>\n",
       "      <th>CH449</th>\n",
       "      <td>3820</td>\n",
       "    </tr>\n",
       "    <tr>\n",
       "      <th>DN161</th>\n",
       "      <td>9044</td>\n",
       "    </tr>\n",
       "    <tr>\n",
       "      <th>...</th>\n",
       "      <td>...</td>\n",
       "    </tr>\n",
       "    <tr>\n",
       "      <th>WV3 9</th>\n",
       "      <td>8097</td>\n",
       "    </tr>\n",
       "    <tr>\n",
       "      <th>LN1 2</th>\n",
       "      <td>11484</td>\n",
       "    </tr>\n",
       "    <tr>\n",
       "      <th>FY4 3</th>\n",
       "      <td>10358</td>\n",
       "    </tr>\n",
       "    <tr>\n",
       "      <th>LE125</th>\n",
       "      <td>7482</td>\n",
       "    </tr>\n",
       "    <tr>\n",
       "      <th>YO104</th>\n",
       "      <td>9027</td>\n",
       "    </tr>\n",
       "  </tbody>\n",
       "</table>\n",
       "<p>2653 rows × 1 columns</p>\n",
       "</div>"
      ],
      "text/plain": [
       "       population\n",
       "HD2 1       15473\n",
       "SK141        5911\n",
       "L21 1        3682\n",
       "CH449        3820\n",
       "DN161        9044\n",
       "...           ...\n",
       "WV3 9        8097\n",
       "LN1 2       11484\n",
       "FY4 3       10358\n",
       "LE125        7482\n",
       "YO104        9027\n",
       "\n",
       "[2653 rows x 1 columns]"
      ]
     },
     "execution_count": 61,
     "metadata": {},
     "output_type": "execute_result"
    }
   ],
   "source": [
    "postcode_sec_df = pd.DataFrame(data = population_sector[0], index = sectors[0], columns = ['population'] )\n",
    "postcode_sec_df[postcode_sec_df['population']!= 0]"
   ]
  },
  {
   "cell_type": "code",
   "execution_count": 62,
   "metadata": {},
   "outputs": [
    {
     "name": "stdout",
     "output_type": "stream",
     "text": [
      "a total number of 17029776 people is affected by this event.\n"
     ]
    }
   ],
   "source": [
    "print('a total number of', sum(postcode_sec_df.population), 'people is affected by this event.')"
   ]
  },
  {
   "cell_type": "markdown",
   "metadata": {},
   "source": [
    "Level 2 (~90% glass windows shatter)"
   ]
  },
  {
   "cell_type": "code",
   "execution_count": 65,
   "metadata": {},
   "outputs": [
    {
     "data": {
      "text/html": [
       "<div>\n",
       "<style scoped>\n",
       "    .dataframe tbody tr th:only-of-type {\n",
       "        vertical-align: middle;\n",
       "    }\n",
       "\n",
       "    .dataframe tbody tr th {\n",
       "        vertical-align: top;\n",
       "    }\n",
       "\n",
       "    .dataframe thead th {\n",
       "        text-align: right;\n",
       "    }\n",
       "</style>\n",
       "<table border=\"1\" class=\"dataframe\">\n",
       "  <thead>\n",
       "    <tr style=\"text-align: right;\">\n",
       "      <th></th>\n",
       "      <th>population</th>\n",
       "    </tr>\n",
       "  </thead>\n",
       "  <tbody>\n",
       "    <tr>\n",
       "      <th>HD3 3</th>\n",
       "      <td>15131</td>\n",
       "    </tr>\n",
       "    <tr>\n",
       "      <th>HD2 1</th>\n",
       "      <td>15473</td>\n",
       "    </tr>\n",
       "    <tr>\n",
       "      <th>SK141</th>\n",
       "      <td>5911</td>\n",
       "    </tr>\n",
       "    <tr>\n",
       "      <th>WN7 2</th>\n",
       "      <td>10026</td>\n",
       "    </tr>\n",
       "    <tr>\n",
       "      <th>BL7 0</th>\n",
       "      <td>3180</td>\n",
       "    </tr>\n",
       "    <tr>\n",
       "      <th>...</th>\n",
       "      <td>...</td>\n",
       "    </tr>\n",
       "    <tr>\n",
       "      <th>WN7 4</th>\n",
       "      <td>7214</td>\n",
       "    </tr>\n",
       "    <tr>\n",
       "      <th>L36 6</th>\n",
       "      <td>2522</td>\n",
       "    </tr>\n",
       "    <tr>\n",
       "      <th>BL0 0</th>\n",
       "      <td>5575</td>\n",
       "    </tr>\n",
       "    <tr>\n",
       "      <th>SK8 4</th>\n",
       "      <td>8557</td>\n",
       "    </tr>\n",
       "    <tr>\n",
       "      <th>SK117</th>\n",
       "      <td>11697</td>\n",
       "    </tr>\n",
       "  </tbody>\n",
       "</table>\n",
       "<p>770 rows × 1 columns</p>\n",
       "</div>"
      ],
      "text/plain": [
       "       population\n",
       "HD3 3       15131\n",
       "HD2 1       15473\n",
       "SK141        5911\n",
       "WN7 2       10026\n",
       "BL7 0        3180\n",
       "...           ...\n",
       "WN7 4        7214\n",
       "L36 6        2522\n",
       "BL0 0        5575\n",
       "SK8 4        8557\n",
       "SK117       11697\n",
       "\n",
       "[770 rows x 1 columns]"
      ]
     },
     "execution_count": 65,
     "metadata": {},
     "output_type": "execute_result"
    }
   ],
   "source": [
    "postcode_sec_df_2 = pd.DataFrame(data = population_sector[1], index = sectors[1], columns = ['population'] )\n",
    "postcode_sec_df_2[postcode_sec_df_2['population']!= 0]"
   ]
  },
  {
   "cell_type": "code",
   "execution_count": 66,
   "metadata": {},
   "outputs": [
    {
     "name": "stdout",
     "output_type": "stream",
     "text": [
      "a total number of 5136843 people suffered from level 2 damage.\n"
     ]
    }
   ],
   "source": [
    "print('a total number of', sum(postcode_sec_df_2.population), 'people suffered from level 2 damage.')"
   ]
  },
  {
   "cell_type": "markdown",
   "metadata": {},
   "source": [
    "Level 3 (Wood frame buildings collapse)"
   ]
  },
  {
   "cell_type": "code",
   "execution_count": 67,
   "metadata": {},
   "outputs": [
    {
     "data": {
      "text/html": [
       "<div>\n",
       "<style scoped>\n",
       "    .dataframe tbody tr th:only-of-type {\n",
       "        vertical-align: middle;\n",
       "    }\n",
       "\n",
       "    .dataframe tbody tr th {\n",
       "        vertical-align: top;\n",
       "    }\n",
       "\n",
       "    .dataframe thead th {\n",
       "        text-align: right;\n",
       "    }\n",
       "</style>\n",
       "<table border=\"1\" class=\"dataframe\">\n",
       "  <thead>\n",
       "    <tr style=\"text-align: right;\">\n",
       "      <th></th>\n",
       "      <th>population</th>\n",
       "    </tr>\n",
       "  </thead>\n",
       "  <tbody>\n",
       "    <tr>\n",
       "      <th>M16 7</th>\n",
       "      <td>7628</td>\n",
       "    </tr>\n",
       "    <tr>\n",
       "      <th>M30 8</th>\n",
       "      <td>9115</td>\n",
       "    </tr>\n",
       "    <tr>\n",
       "      <th>M15 6</th>\n",
       "      <td>7710</td>\n",
       "    </tr>\n",
       "    <tr>\n",
       "      <th>M8  9</th>\n",
       "      <td>3513</td>\n",
       "    </tr>\n",
       "    <tr>\n",
       "      <th>M18 7</th>\n",
       "      <td>12643</td>\n",
       "    </tr>\n",
       "    <tr>\n",
       "      <th>...</th>\n",
       "      <td>...</td>\n",
       "    </tr>\n",
       "    <tr>\n",
       "      <th>M5  4</th>\n",
       "      <td>5638</td>\n",
       "    </tr>\n",
       "    <tr>\n",
       "      <th>M14 6</th>\n",
       "      <td>19997</td>\n",
       "    </tr>\n",
       "    <tr>\n",
       "      <th>M11 1</th>\n",
       "      <td>5759</td>\n",
       "    </tr>\n",
       "    <tr>\n",
       "      <th>M40 9</th>\n",
       "      <td>4579</td>\n",
       "    </tr>\n",
       "    <tr>\n",
       "      <th>M20 3</th>\n",
       "      <td>6254</td>\n",
       "    </tr>\n",
       "  </tbody>\n",
       "</table>\n",
       "<p>135 rows × 1 columns</p>\n",
       "</div>"
      ],
      "text/plain": [
       "       population\n",
       "M16 7        7628\n",
       "M30 8        9115\n",
       "M15 6        7710\n",
       "M8  9        3513\n",
       "M18 7       12643\n",
       "...           ...\n",
       "M5  4        5638\n",
       "M14 6       19997\n",
       "M11 1        5759\n",
       "M40 9        4579\n",
       "M20 3        6254\n",
       "\n",
       "[135 rows x 1 columns]"
      ]
     },
     "execution_count": 67,
     "metadata": {},
     "output_type": "execute_result"
    }
   ],
   "source": [
    "postcode_sec_df_3 = pd.DataFrame(data = population_sector[2], index = sectors[2], columns = ['population'] )\n",
    "postcode_sec_df_3[postcode_sec_df_3['population']!= 0]"
   ]
  },
  {
   "cell_type": "code",
   "execution_count": 68,
   "metadata": {},
   "outputs": [
    {
     "name": "stdout",
     "output_type": "stream",
     "text": [
      "a total number of 918891 people suffered from level 3 damage.\n"
     ]
    }
   ],
   "source": [
    "print('a total number of', sum(postcode_sec_df_3.population), 'people suffered from level 3 damage.')"
   ]
  },
  {
   "cell_type": "markdown",
   "metadata": {},
   "source": [
    "Level 4 (Multistory brick buildings collapse)"
   ]
  },
  {
   "cell_type": "code",
   "execution_count": 69,
   "metadata": {},
   "outputs": [
    {
     "data": {
      "text/html": [
       "<div>\n",
       "<style scoped>\n",
       "    .dataframe tbody tr th:only-of-type {\n",
       "        vertical-align: middle;\n",
       "    }\n",
       "\n",
       "    .dataframe tbody tr th {\n",
       "        vertical-align: top;\n",
       "    }\n",
       "\n",
       "    .dataframe thead th {\n",
       "        text-align: right;\n",
       "    }\n",
       "</style>\n",
       "<table border=\"1\" class=\"dataframe\">\n",
       "  <thead>\n",
       "    <tr style=\"text-align: right;\">\n",
       "      <th></th>\n",
       "      <th>population</th>\n",
       "    </tr>\n",
       "  </thead>\n",
       "  <tbody>\n",
       "    <tr>\n",
       "      <th>M16 7</th>\n",
       "      <td>7628</td>\n",
       "    </tr>\n",
       "    <tr>\n",
       "      <th>M15 6</th>\n",
       "      <td>7710</td>\n",
       "    </tr>\n",
       "    <tr>\n",
       "      <th>M50 1</th>\n",
       "      <td>942</td>\n",
       "    </tr>\n",
       "    <tr>\n",
       "      <th>M3  4</th>\n",
       "      <td>2266</td>\n",
       "    </tr>\n",
       "    <tr>\n",
       "      <th>M3  7</th>\n",
       "      <td>2992</td>\n",
       "    </tr>\n",
       "    <tr>\n",
       "      <th>M6  5</th>\n",
       "      <td>8289</td>\n",
       "    </tr>\n",
       "    <tr>\n",
       "      <th>M3  3</th>\n",
       "      <td>544</td>\n",
       "    </tr>\n",
       "    <tr>\n",
       "      <th>M15 4</th>\n",
       "      <td>8271</td>\n",
       "    </tr>\n",
       "    <tr>\n",
       "      <th>M5  3</th>\n",
       "      <td>5177</td>\n",
       "    </tr>\n",
       "    <tr>\n",
       "      <th>M1  4</th>\n",
       "      <td>215</td>\n",
       "    </tr>\n",
       "    <tr>\n",
       "      <th>M3  6</th>\n",
       "      <td>3762</td>\n",
       "    </tr>\n",
       "    <tr>\n",
       "      <th>M5  5</th>\n",
       "      <td>4914</td>\n",
       "    </tr>\n",
       "    <tr>\n",
       "      <th>M3  5</th>\n",
       "      <td>1268</td>\n",
       "    </tr>\n",
       "    <tr>\n",
       "      <th>M32 0</th>\n",
       "      <td>10553</td>\n",
       "    </tr>\n",
       "    <tr>\n",
       "      <th>M1  1</th>\n",
       "      <td>779</td>\n",
       "    </tr>\n",
       "    <tr>\n",
       "      <th>M3  1</th>\n",
       "      <td>734</td>\n",
       "    </tr>\n",
       "    <tr>\n",
       "      <th>M1  6</th>\n",
       "      <td>822</td>\n",
       "    </tr>\n",
       "    <tr>\n",
       "      <th>M16 9</th>\n",
       "      <td>8815</td>\n",
       "    </tr>\n",
       "    <tr>\n",
       "      <th>M50 3</th>\n",
       "      <td>2248</td>\n",
       "    </tr>\n",
       "    <tr>\n",
       "      <th>M60 9</th>\n",
       "      <td>971</td>\n",
       "    </tr>\n",
       "    <tr>\n",
       "      <th>M6  7</th>\n",
       "      <td>9010</td>\n",
       "    </tr>\n",
       "    <tr>\n",
       "      <th>M15 5</th>\n",
       "      <td>6329</td>\n",
       "    </tr>\n",
       "    <tr>\n",
       "      <th>M7  1</th>\n",
       "      <td>3544</td>\n",
       "    </tr>\n",
       "    <tr>\n",
       "      <th>M6  8</th>\n",
       "      <td>9093</td>\n",
       "    </tr>\n",
       "    <tr>\n",
       "      <th>M7  2</th>\n",
       "      <td>5368</td>\n",
       "    </tr>\n",
       "    <tr>\n",
       "      <th>M16 0</th>\n",
       "      <td>7905</td>\n",
       "    </tr>\n",
       "    <tr>\n",
       "      <th>M5  4</th>\n",
       "      <td>5638</td>\n",
       "    </tr>\n",
       "    <tr>\n",
       "      <th>M60 7</th>\n",
       "      <td>466</td>\n",
       "    </tr>\n",
       "    <tr>\n",
       "      <th>M3  2</th>\n",
       "      <td>143</td>\n",
       "    </tr>\n",
       "    <tr>\n",
       "      <th>M6  6</th>\n",
       "      <td>5582</td>\n",
       "    </tr>\n",
       "    <tr>\n",
       "      <th>M16 8</th>\n",
       "      <td>11373</td>\n",
       "    </tr>\n",
       "    <tr>\n",
       "      <th>M50 2</th>\n",
       "      <td>259</td>\n",
       "    </tr>\n",
       "    <tr>\n",
       "      <th>M1  5</th>\n",
       "      <td>3193</td>\n",
       "    </tr>\n",
       "  </tbody>\n",
       "</table>\n",
       "</div>"
      ],
      "text/plain": [
       "       population\n",
       "M16 7        7628\n",
       "M15 6        7710\n",
       "M50 1         942\n",
       "M3  4        2266\n",
       "M3  7        2992\n",
       "M6  5        8289\n",
       "M3  3         544\n",
       "M15 4        8271\n",
       "M5  3        5177\n",
       "M1  4         215\n",
       "M3  6        3762\n",
       "M5  5        4914\n",
       "M3  5        1268\n",
       "M32 0       10553\n",
       "M1  1         779\n",
       "M3  1         734\n",
       "M1  6         822\n",
       "M16 9        8815\n",
       "M50 3        2248\n",
       "M60 9         971\n",
       "M6  7        9010\n",
       "M15 5        6329\n",
       "M7  1        3544\n",
       "M6  8        9093\n",
       "M7  2        5368\n",
       "M16 0        7905\n",
       "M5  4        5638\n",
       "M60 7         466\n",
       "M3  2         143\n",
       "M6  6        5582\n",
       "M16 8       11373\n",
       "M50 2         259\n",
       "M1  5        3193"
      ]
     },
     "execution_count": 69,
     "metadata": {},
     "output_type": "execute_result"
    }
   ],
   "source": [
    "postcode_sec_df_4 = pd.DataFrame(data = population_sector[3], index = sectors[3], columns = ['population'] )\n",
    "postcode_sec_df_4[postcode_sec_df_4['population']!= 0]"
   ]
  },
  {
   "cell_type": "code",
   "execution_count": 72,
   "metadata": {},
   "outputs": [
    {
     "data": {
      "text/html": [
       "<div>\n",
       "<style scoped>\n",
       "    .dataframe tbody tr th:only-of-type {\n",
       "        vertical-align: middle;\n",
       "    }\n",
       "\n",
       "    .dataframe tbody tr th {\n",
       "        vertical-align: top;\n",
       "    }\n",
       "\n",
       "    .dataframe thead th {\n",
       "        text-align: right;\n",
       "    }\n",
       "</style>\n",
       "<table border=\"1\" class=\"dataframe\">\n",
       "  <thead>\n",
       "    <tr style=\"text-align: right;\">\n",
       "      <th></th>\n",
       "      <th>population</th>\n",
       "    </tr>\n",
       "  </thead>\n",
       "  <tbody>\n",
       "    <tr>\n",
       "      <th>M1  1AD</th>\n",
       "      <td>9.385542</td>\n",
       "    </tr>\n",
       "    <tr>\n",
       "      <th>M1  1BZ</th>\n",
       "      <td>9.385542</td>\n",
       "    </tr>\n",
       "    <tr>\n",
       "      <th>M1  1PL</th>\n",
       "      <td>9.385542</td>\n",
       "    </tr>\n",
       "    <tr>\n",
       "      <th>M1  1PT</th>\n",
       "      <td>9.385542</td>\n",
       "    </tr>\n",
       "    <tr>\n",
       "      <th>M1  1PW</th>\n",
       "      <td>9.385542</td>\n",
       "    </tr>\n",
       "    <tr>\n",
       "      <th>...</th>\n",
       "      <td>...</td>\n",
       "    </tr>\n",
       "    <tr>\n",
       "      <th>M7  2JS</th>\n",
       "      <td>31.209302</td>\n",
       "    </tr>\n",
       "    <tr>\n",
       "      <th>M7  2JT</th>\n",
       "      <td>31.209302</td>\n",
       "    </tr>\n",
       "    <tr>\n",
       "      <th>M7  2JU</th>\n",
       "      <td>31.209302</td>\n",
       "    </tr>\n",
       "    <tr>\n",
       "      <th>M7  2LD</th>\n",
       "      <td>31.209302</td>\n",
       "    </tr>\n",
       "    <tr>\n",
       "      <th>M7  2NL</th>\n",
       "      <td>31.209302</td>\n",
       "    </tr>\n",
       "  </tbody>\n",
       "</table>\n",
       "<p>2430 rows × 1 columns</p>\n",
       "</div>"
      ],
      "text/plain": [
       "         population\n",
       "M1  1AD    9.385542\n",
       "M1  1BZ    9.385542\n",
       "M1  1PL    9.385542\n",
       "M1  1PT    9.385542\n",
       "M1  1PW    9.385542\n",
       "...             ...\n",
       "M7  2JS   31.209302\n",
       "M7  2JT   31.209302\n",
       "M7  2JU   31.209302\n",
       "M7  2LD   31.209302\n",
       "M7  2NL   31.209302\n",
       "\n",
       "[2430 rows x 1 columns]"
      ]
     },
     "execution_count": 72,
     "metadata": {},
     "output_type": "execute_result"
    }
   ],
   "source": [
    "postcode_unit_df_4 = pd.DataFrame(data = population[3], index = postcodes[3], columns = ['population'] )\n",
    "postcode_unit_df_4[postcode_unit_df_4['population']!= 0]\n"
   ]
  },
  {
   "cell_type": "code",
   "execution_count": 73,
   "metadata": {},
   "outputs": [
    {
     "name": "stdout",
     "output_type": "stream",
     "text": [
      "a total number of 146803 people suffered from level 4 damage.\n"
     ]
    }
   ],
   "source": [
    "print('a total number of', sum(postcode_sec_df_4.population), 'people suffered from level 4 damage.')"
   ]
  },
  {
   "cell_type": "markdown",
   "metadata": {},
   "source": [
    "### Uncertainty analysis (impact_risk)"
   ]
  },
  {
   "cell_type": "markdown",
   "metadata": {},
   "source": [
    "The function `impact_risk` in **damage.py** is written  tot take an additional set of inputs, describing the standard deviation of each input parameter, as well as the nominal input parameters. "
   ]
  },
  {
   "cell_type": "code",
   "execution_count": 22,
   "metadata": {},
   "outputs": [],
   "source": [
    "# define the standard deviations\n",
    "as_stdevs = {'radius': 1, 'angle': 1, 'strength': 5e5,\n",
    "                   'density': 500, 'velocity': 1e3,\n",
    "                   'lat': 0.025, 'lon': 0.025, 'bearing': 0.5}\n"
   ]
  },
  {
   "cell_type": "markdown",
   "metadata": {},
   "source": [
    "The functions looks like\n",
    "```Python\n",
    "def impact_risk(planet, means=fiducial_means, stdevs=fiducial_stdevs,\n",
    "                pressure=27.e3, nsamples=100, sector=True):\n",
    "```"
   ]
  },
  {
   "cell_type": "markdown",
   "metadata": {},
   "source": [
    "We will determine lists of surface_zero coordinates and radiis to define circles, and use `get_postcodes_by_radius` and `get_population_of_postcode` functions to find out the postcodes sector (unit) inside each circle, as well as their population."
   ]
  },
  {
   "cell_type": "markdown",
   "metadata": {},
   "source": [
    "We will accumulate the time of each postcodes sector (unit) appears in total loops, the risk value is calculated by :\n",
    "\n",
    "<br>\n",
    "\n",
    "$$\n",
    "risk := \\frac{number \\, of \\,  time \\, affected }{n \\, sample} \\, \\cdot population\n",
    "$$"
   ]
  }
 ],
 "metadata": {
  "kernelspec": {
   "display_name": "Python [conda env:conda base]",
   "language": "python",
   "name": "base"
  },
  "language_info": {
   "codemirror_mode": {
    "name": "ipython",
    "version": 3
   },
   "file_extension": ".py",
   "mimetype": "text/x-python",
   "name": "python",
   "nbconvert_exporter": "python",
   "pygments_lexer": "ipython3",
   "version": "3.8.5"
  }
 },
 "nbformat": 4,
 "nbformat_minor": 2
}
